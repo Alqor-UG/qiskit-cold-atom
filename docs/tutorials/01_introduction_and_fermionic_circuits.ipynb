{
 "cells": [
  {
   "cell_type": "markdown",
   "id": "5beda1bd",
   "metadata": {},
   "source": [
    "# Introduction & Fermionic Circuits\n",
    "\n",
    "In digital quantum computing, the fundamental unit of information is typically an addressable two-level quantum system called a qubit. Within the circuit model, each qubit is assigned a wire in the circuit. After _initialization_ in a well-defined state (e.g. the ground state 0), gates applied to these wires describe an _evolution_ of the state under a sequence of unitary operations. A _measurement_ on a wire then projects the corresponding unit of information onto one of its internal states (0 or 1 for qubits).\n",
    "\n",
    "Quantum simulation architectures based on cold atoms have been vastly explored for the simulation of condensed matter systems in the last two decades. [1] Their experimental control has advanced to a point where they now offer varying degrees of programmability making them strong candidates for a novel kind of quantum information processor.\n",
    "Similar to the qubit circuits described above, experiments run on cold atomic quantum simulators are also commonly described by an _initialization_ in some easy-to-prepare state, a subsequent _evolution_ of the state under programmable unitary operations and finally a _measurement_ yielding information about the quantum state of the atoms such as location, momentum or spin. \n",
    "\n",
    "Due to these similarities between the qubits and cold atomic quantum systems we can abstract quantum computations and simulations run on cold atomic systems in quantum circuits where the wires represent the internal degrees of freedom of the atoms which are accessed by the measurement. \n",
    "\n",
    "Qiskit's cold atom module explores such circuit-based descriptions of cold atomic experiments, leveraging the existing Qiskit control stack and building upon functionality such as circuits, backends, gates, providers etc.  \n",
    "\n",
    "Specifically, this module enables two different settings:  \n",
    "\n",
    "1.  A \"fermionic\" setting where the individual units of information are the occupations of fermionic modes realized by trapped fermionic atoms as described in this tutorial. \n",
    "2. A \\\"spin\\\" setting where the individual units of information are orientations of long spins as realized by trapped Bose-Einstein-Condensates. This is introduced in the [spin circuits tutorial](./02_spin_circuits.ipynb)."
   ]
  },
  {
   "cell_type": "markdown",
   "id": "304f8244",
   "metadata": {},
   "source": [
    "## Fermionic setting\n",
    "\n",
    "In a fermionic setting, the wires of a quantum circuit describe the occupations of individual fermionic modes. Due to the Pauli exclusion principle, a fermionic mode can either be empty, i.e. in the \"vacuum state\" $\\left| 0 \\right>$ or occupied $\\left| 1 \\right>$. However, no two particles can occupy the same mode. We assign one wire to each fermionic mode in the quantum circuit describing such systems.\n",
    "\n",
    "Before applying gates to this fermionic register, we need to initialize some modes with particles, which is done with a `load` instruction. Importing the `qiskit_cold_atom.fermions` module will add this instruction to the `QuantumCircuit` class."
   ]
  },
  {
   "cell_type": "code",
   "execution_count": null,
   "id": "1ebfe70b",
   "metadata": {
    "tags": []
   },
   "outputs": [],
   "source": [
    "from qiskit_cold_atom.fermions import FermionSimulator\n",
    "\n",
    "# initialize the generic fermionic simulator backend\n",
    "backend = FermionSimulator()"
   ]
  },
  {
   "cell_type": "code",
   "execution_count": null,
   "id": "2b635ce0",
   "metadata": {
    "tags": []
   },
   "outputs": [],
   "source": [
    "from qiskit import QuantumCircuit\n",
    "\n",
    "circ1 = QuantumCircuit(4)  # Create a quantum circuit describing four fermionic modes.\n",
    "\n",
    "circ1.fload([1, 2])  # Load fermions into modes 1 and 2.\n",
    "\n",
    "circ1.draw(output='mpl')"
   ]
  },
  {
   "cell_type": "markdown",
   "id": "b6ddfa98",
   "metadata": {},
   "source": [
    "A measurement will yield the occupations of each wire. Let's run the circuit on the `FermionSimulator` backend and confirm this. Calling `backend.run()` will create an `AerJob` object from qiskit-aer which comes with the same functionality to handle jobs familiar from the Aer simulation backends, such as a `.result()` method to retrieve the results. "
   ]
  },
  {
   "cell_type": "code",
   "execution_count": null,
   "id": "1554f160",
   "metadata": {
    "tags": []
   },
   "outputs": [],
   "source": [
    "circ1.measure_all()\n",
    "\n",
    "job = backend.run(circ1)  # defaults to 1000 shots taken\n",
    "\n",
    "print(job.result().get_counts())"
   ]
  },
  {
   "cell_type": "markdown",
   "id": "000aa9a9",
   "metadata": {},
   "source": [
    "A fermionic register can also be created directly from a list of initial occupations:"
   ]
  },
  {
   "cell_type": "code",
   "execution_count": null,
   "id": "901334f8",
   "metadata": {
    "tags": []
   },
   "outputs": [],
   "source": [
    "circ2 = backend.initialize_circuit([1, 0, 1])\n",
    "\n",
    "circ2.draw(output='mpl')"
   ]
  },
  {
   "cell_type": "markdown",
   "id": "f4ceeafa",
   "metadata": {},
   "source": [
    "Observe that the first quantum circuit has a register named `q` while the second circuit has a register named `fer_mode` to emphasize that the wires are fermionic in nature. This does not affect the instructions that can be added to a circuit and reminds us of the different nature of the wires. Circuits with registers labeled `fer_mode` can be conveniently obtained from the cold atom backend instances using the `initialize_circuit` method."
   ]
  },
  {
   "cell_type": "code",
   "execution_count": null,
   "id": "d45c1471",
   "metadata": {
    "tags": []
   },
   "outputs": [],
   "source": [
    "print(f\"First circuit's register: {circ1.qregs}\")\n",
    "print(f\"Second circuit's register: {circ2.qregs}\")"
   ]
  },
  {
   "cell_type": "markdown",
   "id": "363cc277",
   "metadata": {},
   "source": [
    "## Fermionic Gates\n",
    "\n",
    "Quantum gates define the unitary operations that are carried out on the system. The gate unitary $U$ can be uniquely identified by the hermitian Hamiltonian $H$ that generates the evolution of the state (see [Qiskit textbook](https://qiskit.org/textbook/ch-gates/proving-universality.html#2.2-Unitary-and-Hermitian-matrices-)) as $U = e^{-i H}$.\n",
    "The dynamics of cold atomic quantum simulators is commonly described by the Hamiltonian implemented by the system. The Qiskit Cold Atom module therefore defines fermionic gates using their generating Hamiltonians.\n",
    "\n",
    "As a formal language to describe fermionic Hamiltonians, we utilize the \n",
    "`FermionicOp` from Qiskit Nature. Gates are then defined as instances or subclasses of the `FermionicGate` class which inherits from Qiskit's original `Gate` class. \n",
    "\n",
    "In order for the `FermionSimulator` to run a circuit, each gate of the circuit needs to have its generating Hamiltonian given as a `FermionicOp`.  \n",
    "\n",
    "As a first example, let's define a gate $U_{\\text{swap}} = e^{-i H_{\\text{swap}}}$ which takes one particle from mode $i$ to another mode $j$ (and vice versa). In second quantization, the generating Hamiltonian is given as \n",
    "$$ H_{\\text{swap}} = \\frac{\\pi}{2} (f^\\dagger_{i} f_{j} + f^\\dagger_{j} f_{i}) $$"
   ]
  },
  {
   "cell_type": "code",
   "execution_count": null,
   "id": "b1e95045",
   "metadata": {
    "tags": []
   },
   "outputs": [],
   "source": [
    "from qiskit_nature.operators.second_quantization import FermionicOp\n",
    "import numpy as np\n",
    "\n",
    "# define the Hamiltonian as a FermionicOp\n",
    "H_swap = np.pi/2 * FermionicOp([(\"+_0 -_1\", 1), (\"-_0 +_1\", -1)], register_length=2)"
   ]
  },
  {
   "cell_type": "markdown",
   "id": "1c1feaeb",
   "metadata": {},
   "source": [
    "For details on the syntax of how to define a `FermionicOp` please see the FermionicOp documentation.\n",
    "\n",
    "We can now define the fermionic gate:"
   ]
  },
  {
   "cell_type": "code",
   "execution_count": null,
   "id": "1a0f48c5",
   "metadata": {
    "tags": []
   },
   "outputs": [],
   "source": [
    "from qiskit_cold_atom.fermions import FermionicGate\n",
    "\n",
    "swap_fermions = FermionicGate(name=\"swap_fermion\", num_modes=2, generator=H_swap)"
   ]
  },
  {
   "cell_type": "markdown",
   "id": "d96abc4c",
   "metadata": {},
   "source": [
    "Let's use this gate to define and run a circuit on the simulator:"
   ]
  },
  {
   "cell_type": "code",
   "execution_count": null,
   "id": "22c29095",
   "metadata": {
    "tags": []
   },
   "outputs": [],
   "source": [
    "circ = backend.initialize_circuit([1, 0, 1, 0])\n",
    "\n",
    "circ.append(swap_fermions, qargs=[0, 1])\n",
    "circ.append(swap_fermions, qargs=[2, 3])\n",
    "circ.append(swap_fermions, qargs=[1, 2])\n",
    "\n",
    "circ.measure_all()\n",
    "# circ.draw(output='mpl', scale=0.8)"
   ]
  },
  {
   "cell_type": "code",
   "execution_count": null,
   "id": "d59f3c9e",
   "metadata": {
    "tags": []
   },
   "outputs": [],
   "source": [
    "job = backend.run(circ)\n",
    "\n",
    "print(job.result().get_counts())"
   ]
  },
  {
   "cell_type": "markdown",
   "id": "8df93cea",
   "metadata": {},
   "source": [
    "The fermions initialized at positions 0 and 2 got moved to position 2 and 3. Therefore, the outcome '0011' is always measured at each shot."
   ]
  },
  {
   "cell_type": "markdown",
   "id": "6be328de",
   "metadata": {},
   "source": [
    "### Superposition\n",
    "\n",
    "With the SWAP gate only, the system will always stay in a computational basis state. To create a superposition we define a similar gate which lets a particle tunnel from mode $i$ to mode $j$. This is achieved by applying the same Hamiltonian $H_{\\text{swap}}$ for half the time, i.e. with a prefactor half as large.  "
   ]
  },
  {
   "cell_type": "code",
   "execution_count": null,
   "id": "aa3fa92b",
   "metadata": {
    "tags": []
   },
   "outputs": [],
   "source": [
    "# define a gate which will create superposition in the circuit\n",
    "split_fermions = FermionicGate(name=\"split_fermion\", num_modes=2, generator=H_swap/2)"
   ]
  },
  {
   "cell_type": "code",
   "execution_count": null,
   "id": "8b710f09",
   "metadata": {
    "tags": []
   },
   "outputs": [],
   "source": [
    "qc_sup = backend.initialize_circuit([1, 0, 0])\n",
    "\n",
    "qc_sup.append(split_fermions, qargs=[0, 1])\n",
    "qc_sup.append(swap_fermions, qargs=[1, 2])\n",
    "\n",
    "qc_sup.measure_all()\n",
    "qc_sup.draw(output='mpl', scale=0.8)"
   ]
  },
  {
   "cell_type": "code",
   "execution_count": null,
   "id": "f0a6fe2f",
   "metadata": {
    "tags": []
   },
   "outputs": [],
   "source": [
    "from qiskit.visualization import plot_histogram\n",
    "\n",
    "job_sup = backend.run(qc_sup)\n",
    "\n",
    "plot_histogram(job_sup.result().get_counts(), figsize=(5, 3))"
   ]
  },
  {
   "cell_type": "markdown",
   "id": "c32fc0a0",
   "metadata": {},
   "source": [
    "We now see that the single particle in the register is found either in mode 0 or mode 2 with equal probability."
   ]
  },
  {
   "cell_type": "markdown",
   "id": "3e0f6d27",
   "metadata": {},
   "source": [
    "## The fermionic simulator backend\n",
    "\n",
    "We have already seen above how to use the `FermionSimulator` to simulate measurements of the occupation of the fermionic modes. Internally, this backend simulates the evolution of the circuit by exact diagonalization and therefore also has access to the statevector and unitary of the system in the familiar way of `result.get_statevector()` and `result.get_unitary()`. If there is a final measurement in the circuit, the returned state and unitary of the circuit are those just prior to measurement."
   ]
  },
  {
   "cell_type": "code",
   "execution_count": null,
   "id": "8e52792e",
   "metadata": {
    "tags": []
   },
   "outputs": [],
   "source": [
    "qc = backend.initialize_circuit([1, 0, 0, 1])\n",
    "\n",
    "qc.append(split_fermions, qargs=[0, 1])\n",
    "qc.append(swap_fermions, qargs=[2, 3])\n",
    "qc.append(swap_fermions, qargs=[0, 1])\n",
    "qc.append(split_fermions, qargs=[2, 3])\n",
    "qc.append(swap_fermions, qargs=[0, 2])\n",
    "\n",
    "qc.measure_all()\n",
    "\n",
    "job = backend.run(qc, shots = 10, seed=1234)\n",
    "\n",
    "# access the counts\n",
    "print(\"counts :\", job.result().get_counts())\n",
    "\n",
    "# access the memory of individual outcomes\n",
    "print(\"\\nmemory :\", job.result().get_memory())\n",
    "\n",
    "# access the statevector \n",
    "print(\"\\nstatevector :\", job.result().get_statevector())\n",
    "\n",
    "# accedd the unitary\n",
    "print(\"\\ncircuit unitary : \\n\", job.result().get_unitary())\n",
    "\n",
    "qc.draw(output='mpl')"
   ]
  },
  {
   "cell_type": "markdown",
   "id": "c9847181",
   "metadata": {},
   "source": [
    "Note that the statevector and unitary are defined in a Hilbert space of dimension six. This is because the simulator checks for the conservation of the total number of particles under the applied gates. If all gates conserve the total particle number, the simulation will only be carried out in the relevant subspace. In order to see which index in this basis belongs to which state, the basis of the simulation of a circuits can be accessed as:"
   ]
  },
  {
   "cell_type": "code",
   "execution_count": null,
   "id": "deeade90",
   "metadata": {
    "tags": []
   },
   "outputs": [],
   "source": [
    "print(backend.get_basis(qc))"
   ]
  },
  {
   "cell_type": "markdown",
   "id": "ab4ff80c",
   "metadata": {},
   "source": [
    "### Measuring observables\n",
    "\n",
    "The fermionic backends come with a method to sample the expectation value of observables which are diagonal in the occupation number basis. \n",
    "Like the gate Hamiltonians, these observables are given as a `FermionicOp`.\n",
    "\n",
    "For example, we can measure the correlation of the occupations of two sites in the above circuit:"
   ]
  },
  {
   "cell_type": "code",
   "execution_count": null,
   "id": "4af1fd5f",
   "metadata": {
    "tags": []
   },
   "outputs": [],
   "source": [
    "corr = FermionicOp(\"NINI\") + FermionicOp(\"EIEI\")\n",
    "\n",
    "exp_val = backend.measure_observable_expectation(qc, observable=corr, shots=1000)\n",
    "\n",
    "print(exp_val)"
   ]
  },
  {
   "cell_type": "markdown",
   "id": "50133e51",
   "metadata": {},
   "source": [
    "### Further remarks\n",
    "\n",
    "The `FermionSimulator` is a general simulator backend in the sense that it accepts any `FermionicGate` with a well-defined fermionic generator. Similar to the `qasm_simulator` for qubits, there are no coupling maps or further restrictions posed on the applicable gates. \n",
    "\n",
    "To see how fermionic circuits can describe a concrete experimental system of ultracold fermionic atoms with the gateset and coupling map of a real device please see the [fermionic tweezer hardware tutorial](./03_fermionic_tweezer_hardware.ipynb)."
   ]
  },
  {
   "cell_type": "markdown",
   "id": "ed9a2bfc",
   "metadata": {},
   "source": [
    "## References\n",
    "[1] Gross, Christian and Bloch, Immanuel *Quantum simulations with ultracold atoms in optical lattices*, Science, 357, 995-1001, 2017"
   ]
  },
  {
   "cell_type": "code",
   "execution_count": null,
   "id": "0e22aa30",
   "metadata": {
    "tags": []
   },
   "outputs": [],
   "source": [
    "import qiskit.tools.jupyter\n",
    "%qiskit_version_table\n",
    "%qiskit_copyright"
   ]
  }
 ],
 "metadata": {
  "kernelspec": {
   "display_name": "Python 3 (ipykernel)",
   "language": "python",
   "name": "python3"
  },
  "language_info": {
   "codemirror_mode": {
    "name": "ipython",
    "version": 3
   },
   "file_extension": ".py",
   "mimetype": "text/x-python",
   "name": "python",
   "nbconvert_exporter": "python",
   "pygments_lexer": "ipython3",
   "version": "3.9.16"
  }
 },
 "nbformat": 4,
 "nbformat_minor": 5
}
